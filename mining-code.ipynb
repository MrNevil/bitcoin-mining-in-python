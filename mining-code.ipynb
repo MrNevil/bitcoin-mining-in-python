{
 "cells": [
  {
   "cell_type": "code",
   "execution_count": 3,
   "metadata": {},
   "outputs": [],
   "source": [
    "!pip install jovian --upgrade --quiet"
   ]
  },
  {
   "cell_type": "code",
   "execution_count": 6,
   "metadata": {},
   "outputs": [
    {
     "name": "stdout",
     "output_type": "stream",
     "text": [
      "83a426bc3e3cb609976e179897cbcb33c7c1cdbdb1915ce051c95f6e4589aebf\n"
     ]
    }
   ],
   "source": [
    "from hashlib import sha256\n",
    "print(sha256(\"MNO\".encode(\"ascii\")).hexdigest())"
   ]
  },
  {
   "cell_type": "code",
   "execution_count": 7,
   "metadata": {},
   "outputs": [],
   "source": [
    "def SHA256(text):\n",
    "    return sha256(text.encode(\"ascii\")).hexdigest()"
   ]
  },
  {
   "cell_type": "code",
   "execution_count": 8,
   "metadata": {},
   "outputs": [
    {
     "name": "stdout",
     "output_type": "stream",
     "text": [
      "b5d4045c3f466fa91fe2cc6abe79232a1a57cdf104f7a26e716e0a1e2789df78\n"
     ]
    }
   ],
   "source": [
    "if __name__ == '__main__':\n",
    "    print(SHA256(\"ABC\"))"
   ]
  },
  {
   "cell_type": "markdown",
   "metadata": {},
   "source": [
    "#### we are creating dummy transactions for our code"
   ]
  },
  {
   "cell_type": "code",
   "execution_count": 16,
   "metadata": {},
   "outputs": [],
   "source": [
    " transactions='''\n",
    "    Raj->Steve->25,\n",
    "    Alex->Varun->74\n",
    "    Rupali->Vaidehi->96\n",
    "    '''"
   ]
  },
  {
   "cell_type": "markdown",
   "metadata": {},
   "source": [
    "#### now we are creating mine function"
   ]
  },
  {
   "cell_type": "code",
   "execution_count": 17,
   "metadata": {},
   "outputs": [],
   "source": [
    "def mine(block_number, transactions, previous_hash, prefix_zeros):\n",
    "    pass"
   ]
  },
  {
   "cell_type": "markdown",
   "metadata": {},
   "source": [
    "Now we need to create new hash and define arguments for above function"
   ]
  },
  {
   "cell_type": "code",
   "execution_count": 15,
   "metadata": {},
   "outputs": [
    {
     "ename": "TypeError",
     "evalue": "mine() takes 0 positional arguments but 1 was given",
     "output_type": "error",
     "traceback": [
      "\u001b[0;31m---------------------------------------------------------------------------\u001b[0m",
      "\u001b[0;31mTypeError\u001b[0m                                 Traceback (most recent call last)",
      "\u001b[0;32m<ipython-input-15-0135047141ae>\u001b[0m in \u001b[0;36m<module>\u001b[0;34m\u001b[0m\n\u001b[0;32m----> 1\u001b[0;31m \u001b[0mnew_hash\u001b[0m \u001b[0;34m=\u001b[0m \u001b[0mmine\u001b[0m\u001b[0;34m(\u001b[0m\u001b[0mtransactions\u001b[0m\u001b[0;34m)\u001b[0m\u001b[0;34m\u001b[0m\u001b[0;34m\u001b[0m\u001b[0m\n\u001b[0m",
      "\u001b[0;31mTypeError\u001b[0m: mine() takes 0 positional arguments but 1 was given"
     ]
    }
   ],
   "source": [
    "difficulty=4 \n",
    "new_hash = mine(5,transactions,'0000000xa036944e29568d0cff17edbe038f81208fecf9a66be9a2b8321c6ec7', difficulty)"
   ]
  },
  {
   "cell_type": "markdown",
   "metadata": {},
   "source": [
    "try changing difficulty to higher number and you will see it will take more time for mining as difficulty increases.\n",
    "Just that you should know right now bitcoin difficulty/prefix zeros is 20."
   ]
  },
  {
   "cell_type": "code",
   "execution_count": 19,
   "metadata": {},
   "outputs": [],
   "source": [
    "def mine(block_number, transactions, previous_hash, prefix_zeros):\n",
    "    nonce = 1\n",
    "    text = str(block_number) + transactions + previous_hash + str(nonce)\n",
    "    new_hash = SHA256(text)\n",
    "    return new_hash"
   ]
  },
  {
   "cell_type": "code",
   "execution_count": 34,
   "metadata": {},
   "outputs": [
    {
     "name": "stdout",
     "output_type": "stream",
     "text": [
      "start mining\n",
      "Yayy! Sucessfully mined bitcoins with nonce value :  8894382\n",
      "end mining. Mining took: 14.698658227920532 seconds\n",
      "00000021c251a735b47c72aec01a1803db7660f1fb6ccd2a7e8fb416645f90f6\n"
     ]
    }
   ],
   "source": [
    "MAX_NONCE = 100000000000\n",
    "\n",
    "def mine(block_number, transactions, previous_hash, prefix_zeros):\n",
    "    \n",
    "    prefix_str = '0'*prefix_zeros\n",
    "    \n",
    "    for nonce in range(MAX_NONCE):\n",
    "        text = str(block_number) + transactions + previous_hash + str(nonce)\n",
    "        new_hash = SHA256(text)\n",
    "        if new_hash.startswith(prefix_str):\n",
    "            print(\"Yayy! Sucessfully mined bitcoins with nonce value : \",nonce)\n",
    "            return new_hash\n",
    "    \n",
    "    raise BaseException(f\"Couldn't find correct has after trying {MAX_NONCE} times\")\n",
    "    \n",
    "    \n",
    "\n",
    "if __name__ == '__main__':\n",
    "    transactions='''\n",
    "    Dhaval->Bhavin->20,\n",
    "    Mando->Cara->45\n",
    "    '''\n",
    "    difficulty = 6\n",
    "    import time\n",
    "    start = time.time()\n",
    "    print(\"start mining\")\n",
    "\n",
    "    new_hash = mine(5,transactions,'0000000xa036944e29568d0cff17edbe038f81208fecf9a66be9a2b8321c6ec7', difficulty)\n",
    "    total_time = str((time.time() - start))\n",
    "    print(f\"end mining. Mining took: {total_time} seconds\")\n",
    "    print(new_hash)"
   ]
  },
  {
   "cell_type": "code",
   "execution_count": null,
   "metadata": {},
   "outputs": [],
   "source": [
    "from hashlib import sha256\n",
    "MAX_NONCE = 100000000000\n",
    "\n",
    "def SHA256(text):\n",
    "    return sha256(text.encode(\"ascii\")).hexdigest()\n",
    "\n",
    "def mine(block_number, transactions, previous_hash, prefix_zeros):\n",
    "    prefix_str = '0'*prefix_zeros\n",
    "    for nonce in range(MAX_NONCE):\n",
    "        text = str(block_number) + transactions + previous_hash + str(nonce)\n",
    "        new_hash = SHA256(text)\n",
    "        if new_hash.startswith(prefix_str):\n",
    "            print(f\"Yay! Successfully mined bitcoins with nonce value:{nonce}\")\n",
    "            return new_hash\n",
    "\n",
    "    raise BaseException(f\"Couldn't find correct has after trying {MAX_NONCE} times\")\n",
    "\n",
    "if __name__=='__main__':\n",
    "    transactions='''\n",
    "    Dhaval->Bhavin->20,\n",
    "    Mando->Cara->45\n",
    "    '''\n",
    "    difficulty=4 # try changing this to higher number and you will see it will take more time for mining as difficulty increases\n",
    "    import time\n",
    "    start = time.time()\n",
    "    print(\"start mining\")\n",
    "    new_hash = mine(5,transactions,'0000000xa036944e29568d0cff17edbe038f81208fecf9a66be9a2b8321c6ec7', difficulty)\n",
    "    total_time = str((time.time() - start))\n",
    "    print(f\"end mining. Mining took: {total_time} seconds\")\n",
    "    print(new_hash)"
   ]
  }
 ],
 "metadata": {
  "kernelspec": {
   "display_name": "Python 3",
   "language": "python",
   "name": "python3"
  },
  "language_info": {
   "codemirror_mode": {
    "name": "ipython",
    "version": 3
   },
   "file_extension": ".py",
   "mimetype": "text/x-python",
   "name": "python",
   "nbconvert_exporter": "python",
   "pygments_lexer": "ipython3",
   "version": "3.8.6"
  }
 },
 "nbformat": 4,
 "nbformat_minor": 2
}
